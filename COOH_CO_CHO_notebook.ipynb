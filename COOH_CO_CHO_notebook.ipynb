{
 "cells": [
  {
   "cell_type": "markdown",
   "id": "47f30032",
   "metadata": {},
   "source": [
    "# Title"
   ]
  },
  {
   "cell_type": "code",
   "execution_count": 6,
   "id": "eb6fc4e9",
   "metadata": {},
   "outputs": [
    {
     "data": {
      "application/vnd.microsoft.datawrangler.viewer.v0+json": {
       "columns": [
        {
         "name": "index",
         "rawType": "int64",
         "type": "integer"
        },
        {
         "name": "NP",
         "rawType": "object",
         "type": "string"
        },
        {
         "name": "adsorbate",
         "rawType": "object",
         "type": "string"
        },
        {
         "name": "atoms",
         "rawType": "object",
         "type": "unknown"
        },
        {
         "name": "energy",
         "rawType": "float64",
         "type": "float"
        },
        {
         "name": "max_force",
         "rawType": "float64",
         "type": "float"
        },
        {
         "name": "BE",
         "rawType": "float64",
         "type": "float"
        },
        {
         "name": "MSiteCSymb_1",
         "rawType": "object",
         "type": "string"
        }
       ],
       "ref": "27127ead-ed1d-4215-a9b7-edec08f9a17c",
       "rows": [
        [
         "5",
         "A",
         "COOH",
         "Atoms(symbols='Cu11Pt11Au11Pd11Ag11CO2H', pbc=True, cell=[20.0, 20.0, 20.0], calculator=SinglePointDFTCalculator(...))",
         "-197.56643334",
         "0.009769714734832333",
         "0.19593465999999893",
         "Cu"
        ],
        [
         "8",
         "A",
         "COOH",
         "Atoms(symbols='Cu11Pt11Au11Pd11Ag11CO2H', pbc=True, cell=[20.0, 20.0, 20.0], calculator=SinglePointDFTCalculator(...))",
         "-197.64702977",
         "0.00750101673108386",
         "0.1153382300000132",
         "Cu"
        ],
        [
         "16",
         "A",
         "COOH",
         "Atoms(symbols='Cu11Pt11Au11Pd11Ag11CO2H', pbc=True, cell=[20.0, 20.0, 20.0], calculator=SinglePointDFTCalculator(...))",
         "-197.52359995",
         "0.008645240308979271",
         "0.23876804999999734",
         "Cu"
        ],
        [
         "29",
         "A",
         "COOH",
         "Atoms(symbols='Cu11Pt11Au11Pd11Ag11CO2H', pbc=True, cell=[20.0, 20.0, 20.0], calculator=SinglePointDFTCalculator(...))",
         "-197.58579543",
         "0.009405154650509475",
         "0.1765725700000118",
         "Cu"
        ],
        [
         "75",
         "A",
         "COOH",
         "Atoms(symbols='Cu11Pt11Au11Pd11Ag11CO2H', pbc=True, cell=[20.0, 20.0, 20.0], calculator=SinglePointDFTCalculator(...))",
         "-197.33213541",
         "0.008146926782535854",
         "0.4302325899999957",
         "Cu"
        ],
        [
         "77",
         "A",
         "COOH",
         "Atoms(symbols='Cu11Pt11Au11Pd11Ag11CO2H', pbc=True, cell=[20.0, 20.0, 20.0], calculator=SinglePointDFTCalculator(...))",
         "-197.60401923",
         "0.009749062775467188",
         "0.15834876999999636",
         "Cu"
        ],
        [
         "80",
         "A",
         "COOH",
         "Atoms(symbols='Cu11Pt11Au11Pd11Ag11CO2H', pbc=True, cell=[20.0, 20.0, 20.0], calculator=SinglePointDFTCalculator(...))",
         "-197.20840169",
         "0.007628281326747198",
         "0.5539663100000141",
         "Cu"
        ],
        [
         "81",
         "A",
         "COOH",
         "Atoms(symbols='Cu11Pt11Au11Pd11Ag11CO2H', pbc=True, cell=[20.0, 20.0, 20.0], calculator=SinglePointDFTCalculator(...))",
         "-197.29130432",
         "0.009277384760804091",
         "0.4710636800000074",
         "Cu"
        ],
        [
         "82",
         "A",
         "COOH",
         "Atoms(symbols='Cu11Pt11Au11Pd11Ag11CO2H', pbc=True, cell=[20.0, 20.0, 20.0], calculator=SinglePointDFTCalculator(...))",
         "-197.32757014",
         "0.009794294972074303",
         "0.4347978599999962",
         "Cu"
        ],
        [
         "83",
         "A",
         "COOH",
         "Atoms(symbols='Cu11Pt11Au11Pd11Ag11CO2H', pbc=True, cell=[20.0, 20.0, 20.0], calculator=SinglePointDFTCalculator(...))",
         "-197.44433914",
         "0.009169595301865835",
         "0.3180288599999912",
         "Cu"
        ],
        [
         "84",
         "A",
         "COOH",
         "Atoms(symbols='Cu11Pt11Au11Pd11Ag11CO2H', pbc=True, cell=[20.0, 20.0, 20.0], calculator=SinglePointDFTCalculator(...))",
         "-197.16616429",
         "0.0093900824810009",
         "0.5962037099999904",
         "Cu"
        ],
        [
         "85",
         "A",
         "COOH",
         "Atoms(symbols='Cu11Pt11Au11Pd11Ag11CO2H', pbc=True, cell=[20.0, 20.0, 20.0], calculator=SinglePointDFTCalculator(...))",
         "-197.44398631",
         "0.00832627137439082",
         "0.3183816899999883",
         "Cu"
        ],
        [
         "86",
         "A",
         "COOH",
         "Atoms(symbols='Cu11Pt11Au11Pd11Ag11CO2H', pbc=True, cell=[20.0, 20.0, 20.0], calculator=SinglePointDFTCalculator(...))",
         "-197.16553845",
         "0.00908016326945722",
         "0.5968295499999883",
         "Cu"
        ],
        [
         "87",
         "A",
         "COOH",
         "Atoms(symbols='Cu11Pt11Au11Pd11Ag11CO2H', pbc=True, cell=[20.0, 20.0, 20.0], calculator=SinglePointDFTCalculator(...))",
         "-197.44380588",
         "0.009643477847747668",
         "0.3185621199999886",
         "Cu"
        ],
        [
         "88",
         "A",
         "COOH",
         "Atoms(symbols='Cu11Pt11Au11Pd11Ag11CO2H', pbc=True, cell=[20.0, 20.0, 20.0], calculator=SinglePointDFTCalculator(...))",
         "-197.29428204",
         "0.009353285358632014",
         "0.46808595999998914",
         "Cu"
        ],
        [
         "89",
         "A",
         "COOH",
         "Atoms(symbols='Cu11Pt11Au11Pd11Ag11CO2H', pbc=True, cell=[20.0, 20.0, 20.0], calculator=SinglePointDFTCalculator(...))",
         "-197.26699031",
         "0.006947253054265405",
         "0.4953776899999909",
         "Cu"
        ],
        [
         "90",
         "A",
         "COOH",
         "Atoms(symbols='Cu11Pt11Au11Pd11Ag11CO2H', pbc=True, cell=[20.0, 20.0, 20.0], calculator=SinglePointDFTCalculator(...))",
         "-197.29316408",
         "0.009140507699247345",
         "0.4692039200000053",
         "Cu"
        ],
        [
         "92",
         "A",
         "COOH",
         "Atoms(symbols='Cu11Pt11Au11Pd11Ag11CO2H', pbc=True, cell=[20.0, 20.0, 20.0], calculator=SinglePointDFTCalculator(...))",
         "-197.326219",
         "0.009042110428434282",
         "0.43614899999999324",
         "Cu"
        ],
        [
         "97",
         "A",
         "COOH",
         "Atoms(symbols='Cu11Pt11Au11Pd11Ag11CO2H', pbc=True, cell=[20.0, 20.0, 20.0], calculator=SinglePointDFTCalculator(...))",
         "-197.64928366",
         "0.009623587844458012",
         "0.11308433999999323",
         "Pd"
        ],
        [
         "98",
         "A",
         "COOH",
         "Atoms(symbols='Cu11Pt11Au11Pd11Ag11CO2H', pbc=True, cell=[20.0, 20.0, 20.0], calculator=SinglePointDFTCalculator(...))",
         "-197.11802292",
         "0.008519419522479216",
         "0.644345080000015",
         "Cu"
        ],
        [
         "99",
         "A",
         "COOH",
         "Atoms(symbols='Cu11Pt11Au11Pd11Ag11CO2H', pbc=True, cell=[20.0, 20.0, 20.0], calculator=SinglePointDFTCalculator(...))",
         "-197.20186982",
         "0.009165510678625605",
         "0.5604981799999891",
         "Cu"
        ],
        [
         "100",
         "A",
         "COOH",
         "Atoms(symbols='Cu11Pt11Au11Pd11Ag11CO2H', pbc=True, cell=[20.0, 20.0, 20.0], calculator=SinglePointDFTCalculator(...))",
         "-197.24718835",
         "0.00961717676867801",
         "0.5151796500000145",
         "Au"
        ],
        [
         "101",
         "A",
         "COOH",
         "Atoms(symbols='Cu11Pt11Au11Pd11Ag11CO2H', pbc=True, cell=[20.0, 20.0, 20.0], calculator=SinglePointDFTCalculator(...))",
         "-198.18998185",
         "0.009037925536316396",
         "-0.4276138500000073",
         "Pt"
        ],
        [
         "102",
         "A",
         "COOH",
         "Atoms(symbols='Cu11Pt11Au11Pd11Ag11CO2H', pbc=True, cell=[20.0, 20.0, 20.0], calculator=SinglePointDFTCalculator(...))",
         "-197.80020911",
         "0.009898931912080211",
         "-0.037841109999995126",
         "Pd"
        ],
        [
         "103",
         "A",
         "COOH",
         "Atoms(symbols='Cu11Pt11Au11Pd11Ag11CO2H', pbc=True, cell=[20.0, 20.0, 20.0], calculator=SinglePointDFTCalculator(...))",
         "-197.11656596",
         "0.009579732094375081",
         "0.6458020399999995",
         "Cu"
        ],
        [
         "104",
         "A",
         "COOH",
         "Atoms(symbols='Cu11Pt11Au11Pd11Ag11CO2H', pbc=True, cell=[20.0, 20.0, 20.0], calculator=SinglePointDFTCalculator(...))",
         "-197.11732741",
         "0.008856905215705991",
         "0.6450405900000007",
         "Cu"
        ],
        [
         "105",
         "A",
         "COOH",
         "Atoms(symbols='Cu11Pt11Au11Pd11Ag11CO2H', pbc=True, cell=[20.0, 20.0, 20.0], calculator=SinglePointDFTCalculator(...))",
         "-197.21397402",
         "0.00943977044212411",
         "0.5483939800000073",
         "Au"
        ],
        [
         "106",
         "A",
         "COOH",
         "Atoms(symbols='Cu11Pt11Au11Pd11Ag11CO2H', pbc=True, cell=[20.0, 20.0, 20.0], calculator=SinglePointDFTCalculator(...))",
         "-197.08123943",
         "0.009701740513949031",
         "0.6811285699999914",
         "Cu"
        ],
        [
         "107",
         "A",
         "COOH",
         "Atoms(symbols='Cu11Pt11Au11Pd11Ag11CO2H', pbc=True, cell=[20.0, 20.0, 20.0], calculator=SinglePointDFTCalculator(...))",
         "-197.56201159",
         "0.008529555791481758",
         "0.20035641000000481",
         "Pd"
        ],
        [
         "108",
         "A",
         "COOH",
         "Atoms(symbols='Cu11Pt11Au11Pd11Ag11CO2H', pbc=True, cell=[20.0, 20.0, 20.0], calculator=SinglePointDFTCalculator(...))",
         "-197.19959056",
         "0.009466424298540606",
         "0.5627774400000121",
         "Cu"
        ],
        [
         "109",
         "A",
         "COOH",
         "Atoms(symbols='Cu11Pt11Au11Pd11Ag11CO2H', pbc=True, cell=[20.0, 20.0, 20.0], calculator=SinglePointDFTCalculator(...))",
         "-197.23634463",
         "0.006312373959137719",
         "0.5260233700000114",
         "Cu"
        ],
        [
         "110",
         "A",
         "COOH",
         "Atoms(symbols='Cu11Pt11Au11Pd11Ag11CO2H', pbc=True, cell=[20.0, 20.0, 20.0], calculator=SinglePointDFTCalculator(...))",
         "-197.79840608",
         "0.009913140067607237",
         "-0.03603808000000441",
         "Pd"
        ],
        [
         "111",
         "A",
         "COOH",
         "Atoms(symbols='Cu11Pt11Au11Pd11Ag11CO2H', pbc=True, cell=[20.0, 20.0, 20.0], calculator=SinglePointDFTCalculator(...))",
         "-197.64990716",
         "0.009194044594192482",
         "0.11246084000000423",
         "Pd"
        ],
        [
         "112",
         "A",
         "COOH",
         "Atoms(symbols='Cu11Pt11Au11Pd11Ag11CO2H', pbc=True, cell=[20.0, 20.0, 20.0], calculator=SinglePointDFTCalculator(...))",
         "-198.07020906",
         "0.009754395983350275",
         "-0.3078410599999941",
         "Pt"
        ],
        [
         "113",
         "A",
         "COOH",
         "Atoms(symbols='Cu11Pt11Au11Pd11Ag11CO2H', pbc=True, cell=[20.0, 20.0, 20.0], calculator=SinglePointDFTCalculator(...))",
         "-197.79971344",
         "0.009837969201008916",
         "-0.03734544000000284",
         "Pd"
        ],
        [
         "141",
         "D",
         "COOH",
         "Atoms(symbols='Au11Cu11Ag11Pt11Pd11CO2H', pbc=True, cell=[20.0, 20.0, 20.0], calculator=SinglePointDFTCalculator(...))",
         "-196.26060575",
         "0.009203548717750126",
         "0.5817622499999899",
         "Cu"
        ],
        [
         "147",
         "D",
         "COOH",
         "Atoms(symbols='Au11Cu11Ag11Pt11Pd11CO2H', pbc=True, cell=[20.0, 20.0, 20.0], calculator=SinglePointDFTCalculator(...))",
         "-196.24353074",
         "0.007112154104067206",
         "0.598837259999975",
         "Cu"
        ],
        [
         "152",
         "F",
         "COOH",
         "Atoms(symbols='Cu11Ag11Au11Pd11Pt11CO2H', pbc=True, cell=[20.0, 20.0, 20.0], calculator=SinglePointDFTCalculator(...))",
         "-196.66950941",
         "0.007774821605670448",
         "0.16185859000000136",
         "Cu"
        ],
        [
         "163",
         "F",
         "COOH",
         "Atoms(symbols='Cu11Ag11Au11Pd11Pt11CO2H', pbc=True, cell=[20.0, 20.0, 20.0], calculator=SinglePointDFTCalculator(...))",
         "-196.60520852",
         "0.007887798488805352",
         "0.22615947999999975",
         "Cu"
        ],
        [
         "172",
         "F",
         "COOH",
         "Atoms(symbols='Cu11Ag11Au11Pd11Pt11CO2H', pbc=True, cell=[20.0, 20.0, 20.0], calculator=SinglePointDFTCalculator(...))",
         "-196.59988064",
         "0.009919484260786949",
         "0.23148735999998138",
         "Cu"
        ],
        [
         "184",
         "B",
         "COOH",
         "Atoms(symbols='Pd11Cu11Ag11Au11Pt11CO2H', pbc=True, cell=[20.0, 20.0, 20.0], calculator=SinglePointDFTCalculator(...))",
         "-196.55156254",
         "0.00965294970462397",
         "0.322805460000005",
         "Cu"
        ],
        [
         "187",
         "B",
         "COOH",
         "Atoms(symbols='Pd11Cu11Ag11Au11Pt11CO2H', pbc=True, cell=[20.0, 20.0, 20.0], calculator=SinglePointDFTCalculator(...))",
         "-196.58373587",
         "0.00972909851939017",
         "0.29063212999999877",
         "Cu"
        ],
        [
         "268",
         "C",
         "COOH",
         "Atoms(symbols='Pt11Ag11Au11Cu11Pd11CO2H', pbc=True, cell=[20.0, 20.0, 20.0], calculator=SinglePointDFTCalculator(...))",
         "-196.68261181",
         "0.009363739103584635",
         "0.17075619000001296",
         "Cu"
        ],
        [
         "279",
         "C",
         "COOH",
         "Atoms(symbols='Pt11Ag11Au11Cu11Pd11CO2H', pbc=True, cell=[20.0, 20.0, 20.0], calculator=SinglePointDFTCalculator(...))",
         "-197.20174313",
         "0.009579906366974575",
         "-0.34837513000000087",
         "Pd"
        ],
        [
         "287",
         "C",
         "COOH",
         "Atoms(symbols='Pt11Ag11Au11Cu11Pd11CO2H', pbc=True, cell=[20.0, 20.0, 20.0], calculator=SinglePointDFTCalculator(...))",
         "-196.7690431",
         "0.009970341518724422",
         "0.0843249000000057",
         "Cu"
        ],
        [
         "304",
         "C",
         "COOH",
         "Atoms(symbols='Pt11Ag11Au11Cu11Pd11CO2H', pbc=True, cell=[20.0, 20.0, 20.0], calculator=SinglePointDFTCalculator(...))",
         "-196.76135889",
         "0.008664596066753488",
         "0.09200911000001355",
         "Cu"
        ],
        [
         "309",
         "H",
         "COOH",
         "Atoms(symbols='Au11Pd11Ag11Pt11Cu11CO2H', pbc=True, cell=[20.0, 20.0, 20.0], calculator=SinglePointDFTCalculator(...))",
         "-196.00241932",
         "0.008231142934003758",
         "0.14194868000000582",
         "Cu"
        ],
        [
         "312",
         "H",
         "COOH",
         "Atoms(symbols='Au11Pd11Ag11Pt11Cu11CO2H', pbc=True, cell=[20.0, 20.0, 20.0], calculator=SinglePointDFTCalculator(...))",
         "-195.95782928",
         "0.009944314657129468",
         "0.1865387200000086",
         "Cu"
        ],
        [
         "324",
         "H",
         "COOH",
         "Atoms(symbols='Au11Pd11Ag11Pt11Cu11CO2H', pbc=True, cell=[20.0, 20.0, 20.0], calculator=SinglePointDFTCalculator(...))",
         "-195.59296218",
         "0.009779550398663529",
         "0.5514058200000065",
         "Cu"
        ],
        [
         "330",
         "H",
         "COOH",
         "Atoms(symbols='Au11Pd11Ag11Pt11Cu11CO2H', pbc=True, cell=[20.0, 20.0, 20.0], calculator=SinglePointDFTCalculator(...))",
         "-196.07656327",
         "0.009759796411811057",
         "0.06780472999999887",
         "Cu"
        ]
       ],
       "shape": {
        "columns": 7,
        "rows": 422
       }
      },
      "text/html": [
       "<div>\n",
       "<style scoped>\n",
       "    .dataframe tbody tr th:only-of-type {\n",
       "        vertical-align: middle;\n",
       "    }\n",
       "\n",
       "    .dataframe tbody tr th {\n",
       "        vertical-align: top;\n",
       "    }\n",
       "\n",
       "    .dataframe thead th {\n",
       "        text-align: right;\n",
       "    }\n",
       "</style>\n",
       "<table border=\"1\" class=\"dataframe\">\n",
       "  <thead>\n",
       "    <tr style=\"text-align: right;\">\n",
       "      <th></th>\n",
       "      <th>NP</th>\n",
       "      <th>adsorbate</th>\n",
       "      <th>atoms</th>\n",
       "      <th>energy</th>\n",
       "      <th>max_force</th>\n",
       "      <th>BE</th>\n",
       "      <th>MSiteCSymb_1</th>\n",
       "    </tr>\n",
       "  </thead>\n",
       "  <tbody>\n",
       "    <tr>\n",
       "      <th>5</th>\n",
       "      <td>A</td>\n",
       "      <td>COOH</td>\n",
       "      <td>(Atom('Cu', [12.25645, 10.02745, 11.44279], in...</td>\n",
       "      <td>-197.566433</td>\n",
       "      <td>0.009770</td>\n",
       "      <td>0.195935</td>\n",
       "      <td>Cu</td>\n",
       "    </tr>\n",
       "    <tr>\n",
       "      <th>8</th>\n",
       "      <td>A</td>\n",
       "      <td>COOH</td>\n",
       "      <td>(Atom('Cu', [12.26858, 10.01252, 11.43148], in...</td>\n",
       "      <td>-197.647030</td>\n",
       "      <td>0.007501</td>\n",
       "      <td>0.115338</td>\n",
       "      <td>Cu</td>\n",
       "    </tr>\n",
       "    <tr>\n",
       "      <th>16</th>\n",
       "      <td>A</td>\n",
       "      <td>COOH</td>\n",
       "      <td>(Atom('Cu', [12.27824, 9.99407, 11.42832], ind...</td>\n",
       "      <td>-197.523600</td>\n",
       "      <td>0.008645</td>\n",
       "      <td>0.238768</td>\n",
       "      <td>Cu</td>\n",
       "    </tr>\n",
       "    <tr>\n",
       "      <th>29</th>\n",
       "      <td>A</td>\n",
       "      <td>COOH</td>\n",
       "      <td>(Atom('Cu', [12.24217, 10.04902, 11.42811], in...</td>\n",
       "      <td>-197.585795</td>\n",
       "      <td>0.009405</td>\n",
       "      <td>0.176573</td>\n",
       "      <td>Cu</td>\n",
       "    </tr>\n",
       "    <tr>\n",
       "      <th>75</th>\n",
       "      <td>A</td>\n",
       "      <td>COOH</td>\n",
       "      <td>(Atom('Cu', [12.21321, 10.0102, 11.56747], ind...</td>\n",
       "      <td>-197.332135</td>\n",
       "      <td>0.008147</td>\n",
       "      <td>0.430233</td>\n",
       "      <td>Cu</td>\n",
       "    </tr>\n",
       "    <tr>\n",
       "      <th>...</th>\n",
       "      <td>...</td>\n",
       "      <td>...</td>\n",
       "      <td>...</td>\n",
       "      <td>...</td>\n",
       "      <td>...</td>\n",
       "      <td>...</td>\n",
       "      <td>...</td>\n",
       "    </tr>\n",
       "    <tr>\n",
       "      <th>1321</th>\n",
       "      <td>G</td>\n",
       "      <td>CO</td>\n",
       "      <td>(Atom('Ag', [12.28087, 9.98184, 11.36073], ind...</td>\n",
       "      <td>-186.329619</td>\n",
       "      <td>0.009767</td>\n",
       "      <td>-0.709114</td>\n",
       "      <td>Pd</td>\n",
       "    </tr>\n",
       "    <tr>\n",
       "      <th>1323</th>\n",
       "      <td>G</td>\n",
       "      <td>CO</td>\n",
       "      <td>(Atom('Ag', [12.24358, 9.969, 11.33586], index...</td>\n",
       "      <td>-186.386616</td>\n",
       "      <td>0.009650</td>\n",
       "      <td>-0.766111</td>\n",
       "      <td>Pd</td>\n",
       "    </tr>\n",
       "    <tr>\n",
       "      <th>1324</th>\n",
       "      <td>G</td>\n",
       "      <td>CO</td>\n",
       "      <td>(Atom('Ag', [12.24707, 10.03047, 11.38592], in...</td>\n",
       "      <td>-186.823647</td>\n",
       "      <td>0.008628</td>\n",
       "      <td>-1.203142</td>\n",
       "      <td>Pt</td>\n",
       "    </tr>\n",
       "    <tr>\n",
       "      <th>1325</th>\n",
       "      <td>G</td>\n",
       "      <td>CO</td>\n",
       "      <td>(Atom('Ag', [12.25903, 10.02402, 11.45003], in...</td>\n",
       "      <td>-186.885309</td>\n",
       "      <td>0.008859</td>\n",
       "      <td>-1.264804</td>\n",
       "      <td>Pt</td>\n",
       "    </tr>\n",
       "    <tr>\n",
       "      <th>1326</th>\n",
       "      <td>G</td>\n",
       "      <td>CO</td>\n",
       "      <td>(Atom('Ag', [12.24721, 10.01622, 11.39234], in...</td>\n",
       "      <td>-186.332103</td>\n",
       "      <td>0.008366</td>\n",
       "      <td>-0.711598</td>\n",
       "      <td>Pd</td>\n",
       "    </tr>\n",
       "  </tbody>\n",
       "</table>\n",
       "<p>422 rows × 7 columns</p>\n",
       "</div>"
      ],
      "text/plain": [
       "     NP adsorbate                                              atoms  \\\n",
       "5     A      COOH  (Atom('Cu', [12.25645, 10.02745, 11.44279], in...   \n",
       "8     A      COOH  (Atom('Cu', [12.26858, 10.01252, 11.43148], in...   \n",
       "16    A      COOH  (Atom('Cu', [12.27824, 9.99407, 11.42832], ind...   \n",
       "29    A      COOH  (Atom('Cu', [12.24217, 10.04902, 11.42811], in...   \n",
       "75    A      COOH  (Atom('Cu', [12.21321, 10.0102, 11.56747], ind...   \n",
       "...  ..       ...                                                ...   \n",
       "1321  G        CO  (Atom('Ag', [12.28087, 9.98184, 11.36073], ind...   \n",
       "1323  G        CO  (Atom('Ag', [12.24358, 9.969, 11.33586], index...   \n",
       "1324  G        CO  (Atom('Ag', [12.24707, 10.03047, 11.38592], in...   \n",
       "1325  G        CO  (Atom('Ag', [12.25903, 10.02402, 11.45003], in...   \n",
       "1326  G        CO  (Atom('Ag', [12.24721, 10.01622, 11.39234], in...   \n",
       "\n",
       "          energy  max_force        BE MSiteCSymb_1  \n",
       "5    -197.566433   0.009770  0.195935           Cu  \n",
       "8    -197.647030   0.007501  0.115338           Cu  \n",
       "16   -197.523600   0.008645  0.238768           Cu  \n",
       "29   -197.585795   0.009405  0.176573           Cu  \n",
       "75   -197.332135   0.008147  0.430233           Cu  \n",
       "...          ...        ...       ...          ...  \n",
       "1321 -186.329619   0.009767 -0.709114           Pd  \n",
       "1323 -186.386616   0.009650 -0.766111           Pd  \n",
       "1324 -186.823647   0.008628 -1.203142           Pt  \n",
       "1325 -186.885309   0.008859 -1.264804           Pt  \n",
       "1326 -186.332103   0.008366 -0.711598           Pd  \n",
       "\n",
       "[422 rows x 7 columns]"
      ]
     },
     "execution_count": 6,
     "metadata": {},
     "output_type": "execute_result"
    }
   ],
   "source": [
    "import pandas as pd\n",
    "\n",
    "results_df = pd.read_pickle('data_COOH_CO_CHO.pkl')\n",
    "results_df"
   ]
  },
  {
   "cell_type": "code",
   "execution_count": 7,
   "id": "72b99b57",
   "metadata": {},
   "outputs": [
    {
     "data": {
      "image/png": "[encoded data removed]",
      "text/plain": [
       "<Figure size 800x400 with 1 Axes>"
      ]
     },
     "metadata": {},
     "output_type": "display_data"
    }
   ],
   "source": [
    "import matplotlib.pyplot as plt\n",
    "import seaborn as sns\n",
    "\n",
    "\n",
    "fig, ax = plt.subplots(figsize=(8,4))\n",
    "ax = sns.boxplot(x='MSiteCSymb_1', y='BE', data=results_df, hue='adsorbate', palette={'COOH': 'dodgerblue', 'CHO': 'tomato', 'CO': 'springgreen'},\n",
    "                hue_order=['COOH', 'CO', 'CHO'], showmeans=True, whis=[5, 95],\n",
    "                meanprops={\"marker\": \"D\", \"markeredgecolor\": \"black\", \"markerfacecolor\": \"gold\"},\n",
    "                order=['Ag', 'Au', 'Cu', 'Pd', 'Pt'], linewidth=1., linecolor='black', ax=ax)\n",
    "ax.set_ylabel('Formation Energy, eV', fontsize=14)\n",
    "ax.set_xlabel('Adsorption Site', fontsize=14)\n",
    "ax.tick_params(axis='both', which='major', labelsize=12)\n",
    "\n",
    "# Add alternating shading using axvspan\n",
    "# Note: the x positions for categorical data are integers (0, 1, 2, ...)\n",
    "metal_sites = ['Ag', 'Au', 'Cu', 'Pd', 'Pt']\n",
    "for i, site in enumerate(metal_sites):\n",
    "    # Shade every other category (adjust alpha and color as desired)\n",
    "    if i % 2 == 0:\n",
    "        ax.axvspan(i - 0.5, i + 0.5, color='grey', alpha=0.1)\n",
    "\n",
    "ax.axhline(0, color='gray', linestyle='--', linewidth=1)\n",
    "\n",
    "plt.show()"
   ]
  },
  {
   "cell_type": "code",
   "execution_count": 8,
   "id": "6fd0452e",
   "metadata": {},
   "outputs": [
    {
     "data": {
      "image/png": "[encoded data removed]",
      "text/plain": [
       "<Figure size 800x400 with 1 Axes>"
      ]
     },
     "metadata": {},
     "output_type": "display_data"
    }
   ],
   "source": [
    "plotdata_grouped = (\n",
    "    results_df\n",
    "    .groupby(['adsorbate', 'MSiteCSymb_1'])\n",
    "    .agg({'BE': ['min', 'max', 'mean', 'std', 'count']}) \n",
    ").reset_index()\n",
    "\n",
    "plotdata_grouped.columns = ['_'.join(col).strip('_') if isinstance(col, tuple) else col for col in plotdata_grouped.columns]\n",
    "delta_e_1 = plotdata_grouped.query('adsorbate == \"COOH\"')[['MSiteCSymb_1', 'BE_mean']].copy()\n",
    "delta_e_1.columns = ['MSiteCSymb_1', '∆E(1)']\n",
    "delta_e_2 = plotdata_grouped.query('adsorbate == \"CO\"')[['MSiteCSymb_1', 'BE_mean']].copy()\n",
    "delta_e_2.columns = ['MSiteCSymb_1', 'BE_CO']\n",
    "delta_e_3 = plotdata_grouped.query('adsorbate == \"CHO\"')[['MSiteCSymb_1', 'BE_mean']].copy()\n",
    "delta_e_3.columns = ['MSiteCSymb_1', 'BE_CHO']\n",
    "delta_e_2['∆E(2)'] = delta_e_2['BE_CO'] - plotdata_grouped.query('adsorbate == \"COOH\"')['BE_mean'].values\n",
    "delta_e_3['∆E(3)'] = delta_e_3['BE_CHO'] - delta_e_2['BE_CO'].values\n",
    "\n",
    "\n",
    "# Merge the two DataFrames on the metal site column\n",
    "data_merged = delta_e_1[['MSiteCSymb_1', '∆E(1)']].merge(\n",
    "    delta_e_3[['MSiteCSymb_1', '∆E(3)']], on='MSiteCSymb_1'\n",
    ")\n",
    "\n",
    "# Reshape the merged DataFrame from wide to long format\n",
    "data_long = data_merged.melt(id_vars='MSiteCSymb_1', \n",
    "                             value_vars=['∆E(1)', '∆E(3)'],\n",
    "                             var_name='Series', \n",
    "                             value_name='delta_E')\n",
    "\n",
    "# Create the grouped bar plot using hue for the series\n",
    "fig, ax = plt.subplots(figsize=(8,4))\n",
    "sns.barplot(x='MSiteCSymb_1', y='delta_E', hue='Series', data=data_long, palette='viridis', ax=ax)\n",
    "ax.set_xlabel('Metal Site', fontsize=14)\n",
    "ax.set_ylabel(r'$\\overline{\\Delta E(i)}$ (eV)', fontsize=14)\n",
    "ax.tick_params(axis='both', which='major', labelsize=12)\n",
    "ax.legend(title=None, fontsize=12)\n",
    "plt.show()"
   ]
  },
  {
   "cell_type": "code",
   "execution_count": null,
   "id": "07bd300d",
   "metadata": {},
   "outputs": [],
   "source": []
  }
 ],
 "metadata": {
  "kernelspec": {
   "display_name": "workgeneric",
   "language": "python",
   "name": "python3"
  },
  "language_info": {
   "codemirror_mode": {
    "name": "ipython",
    "version": 3
   },
   "file_extension": ".py",
   "mimetype": "text/x-python",
   "name": "python",
   "nbconvert_exporter": "python",
   "pygments_lexer": "ipython3",
   "version": "3.11.10"
  }
 },
 "nbformat": 4,
 "nbformat_minor": 5
}
